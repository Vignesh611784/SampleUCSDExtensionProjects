{
  "nbformat": 4,
  "nbformat_minor": 0,
  "metadata": {
    "colab": {
      "provenance": []
    },
    "kernelspec": {
      "name": "python3",
      "display_name": "Python 3"
    }
  },
  "cells": [
    {
      "cell_type": "markdown",
      "source": [
        "**Copyright: © NexStream Technical Education, LLC**.  \n",
        "All rights reserved\n"
      ],
      "metadata": {
        "id": "7wZJMMYZ8vdd"
      }
    },
    {
      "cell_type": "markdown",
      "metadata": {
        "id": "jQGSjVndM325"
      },
      "source": [
        "# USGS Earthquake Scraper Introduction\n",
        "In this project, you will create a 'web scraper' to access and retrieve real-time data from the US Geological Service (USGS) reflecting the latest active earthquakes around the world which are equal or above a user input magnitude.\n",
        "\n",
        "The data is in JSON format so you'll need to convert the output into a user-readable (friendly) format.\n",
        "\n",
        "The feed is from the USGS database here:  https://earthquake.usgs.gov/earthquakes/feed/.  You should become familiar with this site.\n",
        "\n",
        "The format of the feed summary is here: https://earthquake.usgs.gov/earthquakes/feed/v1.0/geojson.php.  You should become familiar with the fields for the JSON data.  \n",
        "\n",
        "Note you can use a JSON viewer for a more readable format of the data.  \n",
        "\n",
        "\n",
        "\n",
        "\n"
      ]
    },
    {
      "cell_type": "markdown",
      "metadata": {
        "id": "XZfDM-GIPHke"
      },
      "source": [
        "# Part 1a:  Setup the environment and script and prompt the user for input.\n",
        "Setup the script imports and prompt the user for the magnitude from which the USGS data will be accessed.  That is, any earthquake greater than or equal to the input magnitude will be retrieved from the database.  \n",
        "You'll need to import the urllib.request library to get to the web site.\n",
        "You also can input the json library to utilize the functions in that library.\n",
        "Check out both API's for reference.\n"
      ]
    },
    {
      "cell_type": "code",
      "metadata": {
        "id": "j2VIRv4i8hs3",
        "colab": {
          "base_uri": "https://localhost:8080/"
        },
        "outputId": "4a30dcc4-f0e0-43a9-9eb8-d245a050592b"
      },
      "source": [
        "#Import the urllib.request and json libraries\n",
        "import json\n",
        "from google.colab import drive\n",
        "import urllib.request\n",
        "drive.mount('/content/drive/',force_remount=True)\n",
        "\n",
        "\n",
        "#Prompt the user to input a magnitude parameter of type floating point.\n",
        "#Limit the range that user can input to realistic magnitudes (check the magnitude entered and if it doesn't fall within a range, print out a message and prompt again.)\n",
        "#Provide a prompt to the user to end the program or input another magnitude number (this code can be in a later cell).\n",
        "\n",
        "param = 7.0\n",
        "while param>5.4 or param<2.0:\n",
        "  param = float(input('What maginitude are you going to see? '))"
      ],
      "execution_count": null,
      "outputs": [
        {
          "name": "stdout",
          "output_type": "stream",
          "text": [
            "Mounted at /content/drive/\n",
            "What maginitude are you going to see? 5\n"
          ]
        }
      ]
    },
    {
      "cell_type": "markdown",
      "metadata": {
        "id": "FcnmCVrHRPRS"
      },
      "source": [
        "# Part 1b:  Write the printResults function.  \n",
        "In this function, you should print the output of the data you retrieved from the site:  http://earthquake.usgs.gov/earthquakes/feed/v1.0/summary/2.5_day.geojson      \n",
        "See the code comments for guided instruction.\n",
        "\n",
        "\n",
        "Note you can use a JSON viewer for a more readable format of the data if you want to view it before processing it with your function.\n",
        "\n"
      ]
    },
    {
      "cell_type": "code",
      "metadata": {
        "id": "fht5aB2x9BdX"
      },
      "source": [
        "#Function printResults(data)\n",
        "#In Python 3.x we need to explicitly decode the response to a string\n",
        "#i.e. data is output from data.decode(\"utf-8\")\n",
        "\n",
        "def printResults(data):\n",
        "  # Contents of the JSON file\n",
        "  print(data['metadata'])\n",
        "\n",
        "  #Prints the number of events\n",
        "  print(len(data['features']))\n",
        "\n",
        "  names = []\n",
        "\n",
        "  #Prints the place each event occured\n",
        "  for i in range(37):\n",
        "    if float(data['features'][i]['properties']['mag']) > param:\n",
        "      names.append(str(data['features'][i]['properties']['mag'])+' '+data['features'][i]['properties']['place'])\n",
        "    else:\n",
        "      names.append(data['features'][i]['properties']['place'])\n",
        "  return names\n",
        "\n",
        "  #5 For each event, if the magnitude is greater than the user input\n",
        "  #  print both the magnitude and the place it occurred.\n",
        "  #  HINT: use the \"title\" field that each feature has.\n",
        "####Your code here...."
      ],
      "execution_count": null,
      "outputs": []
    },
    {
      "cell_type": "markdown",
      "metadata": {
        "id": "D-U56LbCRhpU"
      },
      "source": [
        "# Part 1c:  Write the runner\n",
        "In this code (either main or in a function), you should setup the URL from the USGS site, open the URL and read the data, call the printResults function.\n",
        "http://earthquake.usgs.gov/earthquakes/feed/v1.0/summary/2.5_day.geojson  \n",
        "See the code comments for guided instruction.  \n",
        "\n",
        "Note you can use a JSON viewer for a more readable format of the data if you want to view it before processing it with your function."
      ]
    },
    {
      "cell_type": "code",
      "metadata": {
        "id": "QC8z_ZJOBRM-"
      },
      "source": [
        "# Define a variable to hold the source URL (see the notes for the URL)\n",
        "# This feed lists all earthquakes for the last day larger than Mag 2.5 (this is your minimum input)\n",
        "!cp drive/My\\ Drive/Colab\\ Notebooks/'2.5_day.json' .\n",
        "\n",
        "# Open the URL and read the data\n",
        "# See urllib.request.urlopen API\n",
        "dataJSON = ' '\n",
        "with open('2.5_day.json') as f:\n",
        "  dataJSON = json.load(f)"
      ],
      "execution_count": null,
      "outputs": []
    },
    {
      "cell_type": "markdown",
      "metadata": {
        "id": "BPcWwux3RsBx"
      },
      "source": [
        "# Part 2:  Output data to spreadsheet\n",
        "Convert output to CSV format.  \n",
        "\n",
        "Rewrite the printResults function.  Call it printResults2(data) where a list or dictionary (your choice) is returned from the function to the runner then the data is converted to CSV format and saved to a file.\n",
        "\n",
        "Change your runner to assign the returned data from your printResults2 function to a variable that you then convert to CSV format and save to a file.\n",
        "\n",
        "Include at least the 4 retrieved from the database from Part 1.  \n",
        "Include exception handling in your file IO processing.   "
      ]
    },
    {
      "cell_type": "code",
      "metadata": {
        "id": "siamBbHDEY1u",
        "colab": {
          "base_uri": "https://localhost:8080/"
        },
        "outputId": "2bcd9680-e4fa-4626-f67e-9f0cde2a724e"
      },
      "source": [
        "#Prints the data into a csv file\n",
        "import csv\n",
        "outDataFile = open('OutputFuelConsumptionRatings.csv',mode = 'w')\n",
        "dataWriter = csv.writer(outDataFile)\n",
        "names = printResults(dataJSON)\n",
        "for line in names:\n",
        "  dataWriter.writerow(line)\n",
        "  print(line)\n",
        "outDataFile.close()\n",
        "!cp OutputFuelConsumptionRatings.csv drive/My\\ Drive/Colab\\ Notebooks/"
      ],
      "execution_count": null,
      "outputs": [
        {
          "output_type": "stream",
          "name": "stdout",
          "text": [
            "{'generated': 1718756640000, 'url': 'https://earthquake.usgs.gov/earthquakes/feed/v1.0/summary/2.5_day.geojson', 'title': 'USGS Magnitude 2.5+ Earthquakes, Past Day', 'status': 200, 'api': '1.10.3', 'count': 37}\n",
            "37\n",
            "51 km SSW of Chirilagua, El Salvador\n",
            "19 km SW of Noşratābād, Iran\n",
            "3 km NNW of Guaymate, Dominican Republic\n",
            "84 km NNW of Isangel, Vanuatu\n",
            "66 km ENE of Pedro Bay, Alaska\n",
            "6 km S of Volcano, Hawaii\n",
            "57 km S of Whites City, New Mexico\n",
            "85 km WNW of San Antonio de los Cobres, Argentina\n",
            "98 km ESE of Palora, Ecuador\n",
            "122 km W of Yachats, Oregon\n",
            "5 km ESE of Haverhill, New Hampshire\n",
            "68 km E of San Vicente, Mexico\n",
            "2 km SW of Pāhala, Hawaii\n",
            "21 km WNW of Moquegua, Peru\n",
            "16 km S of Tres Pinos, CA\n",
            "23 km SSE of Tiniroto, New Zealand\n",
            "western Xizang\n",
            "146 km WSW of Tual, Indonesia\n",
            "11 km NE of Frutal, Brazil\n",
            "113 km NW of Yakutat, Alaska\n",
            "15 km WNW of Progreso, B.C., MX\n",
            "17 km ESE of Willows, CA\n",
            "88 km NW of Yakutat, Alaska\n",
            "8 km ENE of Hirara, Japan\n",
            "2 km NNW of Kāshmar, Iran\n",
            "5.2 south of the Kermadec Islands\n",
            "14 km SW of Koliganek, Alaska\n",
            "Izu Islands, Japan region\n",
            "17 km SSE of Guánica, Puerto Rico\n",
            "5 km SE of El Negro, Puerto Rico\n",
            "5.8 75 km S of Hihifo, Tonga\n",
            "125 km NE of Yakutat, Alaska\n",
            "112 km SSW of Panguna, Papua New Guinea\n",
            "21 km NE of Hualien City, Taiwan\n",
            "16 km NW of Rincón, Puerto Rico\n",
            "5.5 56 km SSW of Alianza Cristiana, Peru\n",
            "188 km SSW of Cuyutlán, Mexico\n"
          ]
        }
      ]
    }
  ]
}