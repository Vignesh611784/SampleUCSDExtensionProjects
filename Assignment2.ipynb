{
  "nbformat": 4,
  "nbformat_minor": 0,
  "metadata": {
    "colab": {
      "provenance": []
    },
    "kernelspec": {
      "name": "python3",
      "display_name": "Python 3"
    },
    "language_info": {
      "name": "python"
    }
  },
  "cells": [
    {
      "cell_type": "code",
      "execution_count": 1,
      "metadata": {
        "id": "xqinn1D1gGVL"
      },
      "outputs": [],
      "source": [
        "#1\n",
        "def interview():\n",
        "  can1 = [[],[],[],[],[]] #List that has the 5 interviewees' name, age and GPA\n",
        "  counter = 1\n",
        "  #Gathers the input and stores it in a 2D list\n",
        "  while counter<=5:\n",
        "    inputParam = 'What is the name of candidate '+str(counter)+' ? '\n",
        "    name = input(inputParam)\n",
        "    inputParam = 'What is the age of candidate '+str(counter)+' ? '\n",
        "    age = input(inputParam)\n",
        "    inputParam = 'What is the GPA of candidate '+str(counter)+' ? '\n",
        "    gpa = input(inputParam)\n",
        "    can1[counter-1] = [name,age,gpa]\n",
        "    counter+=1;\n",
        "  employees = [can1[0],can1[2],can1[4]] #List that has the 3 of the 5 interviewees' name, age and GPA\n",
        "  for i in range(3):\n",
        "    print(str(employees[i]))\n",
        "  check = True\n",
        "  #Prints out the information that the manager wants\n",
        "  while check:\n",
        "    print('Enter 0 to access Name\\n')\n",
        "    print('Enter 1 to access Age\\n')\n",
        "    print('Enter 2 to access GPA\\n')\n",
        "    print('Enter 3 to quit\\n')\n",
        "    num = input('Manager, which category do you wish to check? ')\n",
        "    if num== ' ' or num=='' or int(num)==3:\n",
        "      check = False\n",
        "    elif int(num)>=0 and int(num)<=2:\n",
        "      for i in range(3):\n",
        "        print(employees[i][int(num)])\n",
        "\n"
      ]
    },
    {
      "cell_type": "code",
      "source": [
        "1interview()\n"
      ],
      "metadata": {
        "colab": {
          "base_uri": "https://localhost:8080/"
        },
        "id": "PLbRdZbKqXh-",
        "outputId": "1e684c31-9399-4160-99fd-e5031a245778"
      },
      "execution_count": 2,
      "outputs": [
        {
          "name": "stdout",
          "output_type": "stream",
          "text": [
            "What is the name of candidate 1 ? 1\n",
            "What is the age of candidate 1 ? 2\n",
            "What is the GPA of candidate 1 ? 3\n",
            "What is the name of candidate 2 ? 4\n",
            "What is the age of candidate 2 ? 5\n",
            "What is the GPA of candidate 2 ? 6\n",
            "What is the name of candidate 3 ? 7\n",
            "What is the age of candidate 3 ? 8\n",
            "What is the GPA of candidate 3 ? 9\n",
            "What is the name of candidate 4 ? 10\n",
            "What is the age of candidate 4 ? 11\n",
            "What is the GPA of candidate 4 ? 12\n",
            "What is the name of candidate 5 ? 13\n",
            "What is the age of candidate 5 ? 1\n",
            "What is the GPA of candidate 5 ? 4\n",
            "['1', '2', '3']\n",
            "['7', '8', '9']\n",
            "['13', '1', '4']\n",
            "Enter 0 to access Name\n",
            "\n",
            "Enter 1 to access Age\n",
            "\n",
            "Enter 2 to access GPA\n",
            "\n",
            "Enter 3 to quit\n",
            "\n",
            "Manager, which category do you wish to check? 0\n",
            "1\n",
            "7\n",
            "13\n",
            "Enter 0 to access Name\n",
            "\n",
            "Enter 1 to access Age\n",
            "\n",
            "Enter 2 to access GPA\n",
            "\n",
            "Enter 3 to quit\n",
            "\n",
            "Manager, which category do you wish to check? 1\n",
            "2\n",
            "8\n",
            "1\n",
            "Enter 0 to access Name\n",
            "\n",
            "Enter 1 to access Age\n",
            "\n",
            "Enter 2 to access GPA\n",
            "\n",
            "Enter 3 to quit\n",
            "\n",
            "Manager, which category do you wish to check? 2\n",
            "3\n",
            "9\n",
            "4\n",
            "Enter 0 to access Name\n",
            "\n",
            "Enter 1 to access Age\n",
            "\n",
            "Enter 2 to access GPA\n",
            "\n",
            "Enter 3 to quit\n",
            "\n",
            "Manager, which category do you wish to check? 3\n"
          ]
        }
      ]
    },
    {
      "cell_type": "code",
      "source": [
        "#2\n",
        "#Shopping - list that contains strings of what is in the shopping cart\n",
        "def dictionary(shopping):\n",
        "  #Creating the 3 dictionaries\n",
        "  category1Prices = {'Shirts':150,'Pants':100,'Shoes':50}\n",
        "  category2Prices = {'Pen':10,'Pencil':10,'Eraser':15,'Paper':12.50}\n",
        "  category3Prices = {'iPhone10':150,'iPhone11':200,'iPhone14':400}\n",
        "  myStoreInventory = {'Clothes':category1Prices, 'School supplies':category2Prices, 'iPhones':category3Prices}\n",
        "\n",
        "  print(myStoreInventory)\n",
        "  #Sums the total in the shopping cart, and total contains this total\n",
        "  total = 0\n",
        "  for name in shopping:\n",
        "    if(name=='Shirts' or name=='Pants' or name=='Shoes'):\n",
        "      total = total + myStoreInventory['Clothes'][name]\n",
        "    elif(name=='Pen' or name=='Pencil' or name=='Eraser' or name=='Paper'):\n",
        "      total = total + myStoreInventory['School supplies'][name]\n",
        "    elif(name=='iPhone10' or name=='iPhone11' or name=='iPhone14'):\n",
        "      total = total + myStoreInventory['iPhones'][name]\n",
        "  #Adds an 8% tax to the total and returns it\n",
        "  total = total + total*0.08\n",
        "  return total"
      ],
      "metadata": {
        "id": "qYVrv0Zx5AW2"
      },
      "execution_count": 3,
      "outputs": []
    },
    {
      "cell_type": "code",
      "source": [
        "#Doctest module\n",
        "import doctest\n",
        "\n",
        "\"\"\"\n",
        "#Test the print statements\n",
        "  >>> dictionary(['Shirts','Pen','iPhone10','Pencil','iPhone14','Shoes'])\n",
        "  {'Clothes': {'Shirts': 150, 'Pants': 100, 'Shoes': 50}, 'School supplies': {'Pen': 10, 'Pencil': 10, 'Eraser': 15, 'Paper': 12.5}, 'iPhones': {'iPhone10': 150, 'iPhone11': 200, 'iPhone14': 400}}\n",
        "  831.6\n",
        "\n",
        "\"\"\"\n",
        "doctest.testmod()"
      ],
      "metadata": {
        "colab": {
          "base_uri": "https://localhost:8080/"
        },
        "id": "4Zxg41sxyi00",
        "outputId": "c322cff3-d180-42ae-a3c0-649326d547f2"
      },
      "execution_count": 4,
      "outputs": [
        {
          "output_type": "stream",
          "name": "stderr",
          "text": [
            "\n",
            "PYDEV DEBUGGER WARNING:\n",
            "sys.settrace() should not be used when the debugger is being used.\n",
            "This may cause the debugger to stop working correctly.\n",
            "If this is needed, please check: \n",
            "http://pydev.blogspot.com/2007/06/why-cant-pydev-debugger-work-with.html\n",
            "to see how to restore the debug tracing back correctly.\n",
            "Call Location:\n",
            "  File \"/usr/lib/python3.10/doctest.py\", line 1501, in run\n",
            "    sys.settrace(save_trace)\n",
            "\n"
          ]
        },
        {
          "output_type": "execute_result",
          "data": {
            "text/plain": [
              "TestResults(failed=0, attempted=1)"
            ]
          },
          "metadata": {},
          "execution_count": 4
        }
      ]
    },
    {
      "cell_type": "code",
      "source": [
        "dictionary(['Shirts','Pen','iPhone10','Pencil','iPhone14','Shoes'])"
      ],
      "metadata": {
        "colab": {
          "base_uri": "https://localhost:8080/"
        },
        "id": "1NPMWXnUTN05",
        "outputId": "1e6ebd87-ec53-4060-fbb7-350db95ca819"
      },
      "execution_count": 5,
      "outputs": [
        {
          "output_type": "stream",
          "name": "stdout",
          "text": [
            "{'Clothes': {'Shirts': 150, 'Pants': 100, 'Shoes': 50}, 'School supplies': {'Pen': 10, 'Pencil': 10, 'Eraser': 15, 'Paper': 12.5}, 'iPhones': {'iPhone10': 150, 'iPhone11': 200, 'iPhone14': 400}}\n"
          ]
        },
        {
          "output_type": "execute_result",
          "data": {
            "text/plain": [
              "831.6"
            ]
          },
          "metadata": {},
          "execution_count": 5
        }
      ]
    },
    {
      "cell_type": "code",
      "source": [
        "#3\n",
        "def queueArray():\n",
        "  check = True\n",
        "  queue = [] #Queue of events\n",
        "  isEmpty = True\n",
        "  while check:\n",
        "    #Asks for user input while the user wants to continue\n",
        "    print('\\nWhat would you like to do?\\n')\n",
        "    print('1: add a task\\n')\n",
        "    print('2: look at the first task\\n')\n",
        "    print('3: complete (remove) the first task\\n')\n",
        "    print('4: clear the tasks\\n')\n",
        "    inp = input('5: exit\\n')\n",
        "    num = int(inp)\n",
        "    elements = 0\n",
        "    if(num>=5 or num<0):\n",
        "      print('Goodbye!')\n",
        "      check = False\n",
        "    else:\n",
        "      if(num==1): #Adds the task to the end of the queue\n",
        "        isEmpty = False\n",
        "        word = input('\\nAdd your task:')\n",
        "        queue.append(word)\n",
        "        elements = elements + 1\n",
        "        print('\\nTask '+word+' added!\\n')\n",
        "      if(num==2): #Checks the first item in the queue\n",
        "        if isEmpty:\n",
        "          print('No tasks in list!')\n",
        "        else:\n",
        "          val = queue[0]\n",
        "          print('\\nYour first task is '+str(val)+\"\\n\")\n",
        "      if(num==3): #Removes the first task\n",
        "        task = queue[0]\n",
        "        elements = elements-1\n",
        "        if elements==0:\n",
        "          isEmpty = True\n",
        "        print('\\nYou removed the task '+task+\"\\n\")\n",
        "        queue.pop(0)\n",
        "      if(num==4): #Clears the queue\n",
        "        isEmpty = True\n",
        "        queue = []\n",
        "        print('\\nAll tasks are cleared!\\n')\n",
        "\n"
      ],
      "metadata": {
        "id": "OI-SDS4s2yux"
      },
      "execution_count": 6,
      "outputs": []
    },
    {
      "cell_type": "code",
      "source": [
        "queueArray()"
      ],
      "metadata": {
        "colab": {
          "base_uri": "https://localhost:8080/"
        },
        "id": "qOph9Uga5EEl",
        "outputId": "00664b60-1ac1-4711-cc9e-ee09c31985d4"
      },
      "execution_count": 8,
      "outputs": [
        {
          "output_type": "stream",
          "name": "stdout",
          "text": [
            "\n",
            "What would you like to do?\n",
            "\n",
            "1: add a task\n",
            "\n",
            "2: look at the first task\n",
            "\n",
            "3: complete (remove) the first task\n",
            "\n",
            "4: clear the tasks\n",
            "\n",
            "5: exit\n",
            "1\n",
            "\n",
            "Add your task:1\n",
            "\n",
            "Task 1 added!\n",
            "\n",
            "\n",
            "What would you like to do?\n",
            "\n",
            "1: add a task\n",
            "\n",
            "2: look at the first task\n",
            "\n",
            "3: complete (remove) the first task\n",
            "\n",
            "4: clear the tasks\n",
            "\n",
            "5: exit\n",
            "2\n",
            "\n",
            "Your first task is 1\n",
            "\n",
            "\n",
            "What would you like to do?\n",
            "\n",
            "1: add a task\n",
            "\n",
            "2: look at the first task\n",
            "\n",
            "3: complete (remove) the first task\n",
            "\n",
            "4: clear the tasks\n",
            "\n",
            "5: exit\n",
            "3\n",
            "\n",
            "You removed the task 1\n",
            "\n",
            "\n",
            "What would you like to do?\n",
            "\n",
            "1: add a task\n",
            "\n",
            "2: look at the first task\n",
            "\n",
            "3: complete (remove) the first task\n",
            "\n",
            "4: clear the tasks\n",
            "\n",
            "5: exit\n",
            "1\n",
            "\n",
            "Add your task:1\n",
            "\n",
            "Task 1 added!\n",
            "\n",
            "\n",
            "What would you like to do?\n",
            "\n",
            "1: add a task\n",
            "\n",
            "2: look at the first task\n",
            "\n",
            "3: complete (remove) the first task\n",
            "\n",
            "4: clear the tasks\n",
            "\n",
            "5: exit\n",
            "4\n",
            "\n",
            "All tasks are cleared!\n",
            "\n",
            "\n",
            "What would you like to do?\n",
            "\n",
            "1: add a task\n",
            "\n",
            "2: look at the first task\n",
            "\n",
            "3: complete (remove) the first task\n",
            "\n",
            "4: clear the tasks\n",
            "\n",
            "5: exit\n",
            "2\n",
            "No tasks in list!\n",
            "\n",
            "What would you like to do?\n",
            "\n",
            "1: add a task\n",
            "\n",
            "2: look at the first task\n",
            "\n",
            "3: complete (remove) the first task\n",
            "\n",
            "4: clear the tasks\n",
            "\n",
            "5: exit\n",
            "5\n",
            "Goodbye!\n"
          ]
        }
      ]
    },
    {
      "cell_type": "code",
      "source": [],
      "metadata": {
        "id": "9hM-9Mqg5RmS"
      },
      "execution_count": null,
      "outputs": []
    }
  ]
}